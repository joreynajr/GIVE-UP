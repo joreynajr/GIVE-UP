{
 "cells": [
  {
   "cell_type": "code",
   "execution_count": 1,
   "metadata": {},
   "outputs": [],
   "source": [
    "import pandas as pd \n",
    "import numpy as np\n",
    "from collections import Counter\n",
    "import gzip\n",
    "import os\n",
    "import subprocess\n",
    "\n",
    "import matplotlib.pyplot as plt \n",
    "%matplotlib inline \n",
    "import seaborn as sns \n",
    "\n",
    "output_dir = '../output/contact_maps/'"
   ]
  },
  {
   "cell_type": "markdown",
   "metadata": {},
   "source": [
    "## Analyzing bin counts "
   ]
  },
  {
   "cell_type": "code",
   "execution_count": 4,
   "metadata": {},
   "outputs": [],
   "source": [
    "def decide_read_bin(pos, bin_size):\n",
    "    \"\"\"\n",
    "    Decide what bin to use for read with start end. \n",
    "    \n",
    "    \"\"\"\n",
    "    \n",
    "    cbin = int(np.floor(pos / bin_size))\n",
    "    \n",
    "    return(cbin)\n",
    "\n",
    "def decide_read_pair_bin(posA, posB, bin_size):\n",
    "    \"\"\"\n",
    "    Decide what bin to use for read pair. \n",
    "    \n",
    "    \"\"\"\n",
    "\n",
    "    binA = decide_read_bin(posA, bin_size)\n",
    "    binB = decide_read_bin(posB, bin_size)\n",
    "    \n",
    "    return([binA, binB])\n",
    "\n",
    "def chrom_num(x):\n",
    "    \"\"\"\n",
    "    Assign a chromosome number. \n",
    "    \n",
    "    \"\"\"\n",
    "    if x not in ['chrX', 'chrY']:\n",
    "        x = int(x.replace('chr', ''))\n",
    "        \n",
    "    elif x == 'chrX':\n",
    "        x = 23\n",
    "        \n",
    "    elif x == 'chrY':\n",
    "        x = 24\n",
    "        \n",
    "    return(x)\n",
    "\n",
    "def chrom_key(x):\n",
    "    \"\"\"\n",
    "    Generate a chromsome key for sorting. \n",
    "    \n",
    "    \"\"\"\n",
    "    \n",
    "    return(chrom_num(x[0]), chrom_num(x[2]), x[1], x[3])"
   ]
  },
  {
   "cell_type": "code",
   "execution_count": 72,
   "metadata": {},
   "outputs": [],
   "source": [
    "cell_type = 'HFF'\n",
    "cell_type = 'HEK'\n",
    "read_pairs_fn = '/gpfs/data01/glasslab/home/joreyna/projects/CSE283/imarge_project/'\n",
    "read_pairs_fn += 'data/iMARGI_seq/filter200k_final_{}_iMARGI.pairs'.format(cell_type)\n",
    "\n",
    "bin_size = 1000000\n",
    "all_interactions_fn = read_pairs_fn.replace('pairs', 'bs_{}.pairs'.format(bin_size))\n",
    "\n",
    "# Excluding non-human chromosomes \n",
    "chroms = list(range(1, 23)) + ['X', 'Y']\n",
    "chroms = ['chr{}'.format(x) for x in chroms]"
   ]
  },
  {
   "cell_type": "code",
   "execution_count": 73,
   "metadata": {},
   "outputs": [],
   "source": [
    "if not os.path.exists(all_interactions_fn):\n",
    "\n",
    "    print('Analyzing interactions.')\n",
    "    \n",
    "    contact_map = Counter()\n",
    "    \n",
    "    with open(read_pairs_fn) as f:\n",
    "        \n",
    "        for i, line in enumerate(f):\n",
    "            \n",
    "            if line.startswith('#'):\n",
    "                continue \n",
    "                \n",
    "            line = line.strip()\n",
    "            vals = line.split()\n",
    "            chromA, posA, chromB, posB = vals[1:5]\n",
    "            posA, posB = int(posA), int(posB)\n",
    "\n",
    "            if chromA in chroms and chromB in chroms: \n",
    "                binA, binB = decide_read_pair_bin(posA, posB, bin_size)\n",
    "                contact_key = (chromA, binA, chromB, binB)\n",
    "                contact_map[contact_key] += 1 \n",
    "\n",
    "            if i % 1000000 == 0:\n",
    "                print(i)\n",
    "                         \n",
    "# Write the contact map in sorted order by chromsome and positions \n",
    "if not os.path.exists(all_interactions_fn):\n",
    "    \n",
    "    print('Writing interactions file.')\n",
    "    \n",
    "    # Getting and sorting contact keys \n",
    "    contact_keys = contact_map.keys()\n",
    "    sorted_keys = sorted(contact_keys, key=chrom_key)\n",
    "    \n",
    "    # Writing the interactions \n",
    "    with open(all_interactions_fn, 'w') as f: \n",
    "        for key in sorted_keys: \n",
    "            counts = contact_map[key]\n",
    "            msg = list(key) + [counts]\n",
    "            msg = '\\t'.join([str(x) for x in msg]) + '\\n'\n",
    "            f.write(msg)"
   ]
  },
  {
   "cell_type": "markdown",
   "metadata": {},
   "source": [
    "## Plotting the heatmap "
   ]
  },
  {
   "cell_type": "code",
   "execution_count": 74,
   "metadata": {},
   "outputs": [],
   "source": [
    "def filter_write_contact_data(fn, output_fn, chromA, chromB):\n",
    "    \"\"\"\n",
    "    Filter the data by chromA and chromB and write.\n",
    "    \n",
    "    \"\"\"\n",
    "    if not os.path.exists(output_fn):\n",
    "        with open(fn) as all_contacts:\n",
    "            with open(output_fn, 'w') as flt_contacts:\n",
    "            \n",
    "                for line in all_contacts: \n",
    "\n",
    "                    info = line.strip()\n",
    "                    chrA, binA, chrB, binB, counts = info.split('\\t')    \n",
    "\n",
    "                    if (chrA == chromA) and (chrB == chromB): \n",
    "                        flt_contacts.write(line)"
   ]
  },
  {
   "cell_type": "code",
   "execution_count": 75,
   "metadata": {},
   "outputs": [],
   "source": [
    "# Writing contact data for chromA and chromB \n",
    "chromA, chromB = ('chr9', 'chr9')\n",
    "ext = '{}_{}_{}.pairs'.format(chromA, chromB, cell_type)\n",
    "flt_interactions_fn = all_interactions_fn.replace('pairs', ext) \n",
    "if not os.path.exists(flt_interactions_fn):\n",
    "    filter_write_contact_data(all_interactions_fn, flt_interactions_fn, chromA, chromB)"
   ]
  },
  {
   "cell_type": "code",
   "execution_count": 76,
   "metadata": {},
   "outputs": [],
   "source": [
    "# Loading the data for chromA and chromB\n",
    "contact_data = pd.read_table(flt_interactions_fn, names=['chrA', 'binA', 'chrB', 'binB', 'counts'])\n",
    "\n",
    "# Generating the contact matrix \n",
    "max_binA = contact_data.binA.max()\n",
    "max_binB = contact_data.binB.max()\n",
    "contact_matrix = np.zeros((max_binA + 1, max_binB + 1))\n",
    "for (chrA, binA, chrB, binB, count) in contact_data.values:\n",
    "    contact_matrix[binA, binB] = count"
   ]
  },
  {
   "cell_type": "code",
   "execution_count": 81,
   "metadata": {
    "scrolled": false
   },
   "outputs": [
    {
     "data": {
      "image/png": "[encoded data removed]",
      "text/plain": [
       "<Figure size 576x432 with 2 Axes>"
      ]
     },
     "metadata": {
      "needs_background": "light"
     },
     "output_type": "display_data"
    }
   ],
   "source": [
    "fig,ax = plt.subplots(figsize=(8,6))\n",
    "\n",
    "vbounds = {'HFF': (0,80), 'HEK': (0,200)}\n",
    "ax.set_title('Interactions in {}'.format(cell_type), fontsize=14)\n",
    "sns.heatmap(contact_matrix + contact_matrix.T , cmap='bwr', vmin=vbounds[cell_type][0], \n",
    "            vmax=vbounds[cell_type][1])\n",
    "\n",
    "fn = os.path.join(output_dir, 'heat_map_{}.png'.format(cell_type))\n",
    "fig.tight_layout()\n",
    "fig.savefig(fn, dpi=200)"
   ]
  },
  {
   "cell_type": "code",
   "execution_count": null,
   "metadata": {},
   "outputs": [],
   "source": []
  },
  {
   "cell_type": "code",
   "execution_count": null,
   "metadata": {},
   "outputs": [],
   "source": []
  },
  {
   "cell_type": "code",
   "execution_count": null,
   "metadata": {},
   "outputs": [],
   "source": []
  },
  {
   "cell_type": "code",
   "execution_count": null,
   "metadata": {},
   "outputs": [],
   "source": []
  },
  {
   "cell_type": "code",
   "execution_count": null,
   "metadata": {},
   "outputs": [],
   "source": []
  },
  {
   "cell_type": "code",
   "execution_count": null,
   "metadata": {},
   "outputs": [],
   "source": []
  },
  {
   "cell_type": "code",
   "execution_count": null,
   "metadata": {},
   "outputs": [],
   "source": []
  },
  {
   "cell_type": "code",
   "execution_count": null,
   "metadata": {},
   "outputs": [],
   "source": []
  },
  {
   "cell_type": "code",
   "execution_count": null,
   "metadata": {},
   "outputs": [],
   "source": []
  },
  {
   "cell_type": "code",
   "execution_count": null,
   "metadata": {},
   "outputs": [],
   "source": []
  },
  {
   "cell_type": "code",
   "execution_count": null,
   "metadata": {},
   "outputs": [],
   "source": []
  },
  {
   "cell_type": "code",
   "execution_count": null,
   "metadata": {},
   "outputs": [],
   "source": []
  },
  {
   "cell_type": "code",
   "execution_count": null,
   "metadata": {},
   "outputs": [],
   "source": []
  },
  {
   "cell_type": "code",
   "execution_count": null,
   "metadata": {},
   "outputs": [],
   "source": []
  },
  {
   "cell_type": "code",
   "execution_count": null,
   "metadata": {},
   "outputs": [],
   "source": []
  },
  {
   "cell_type": "code",
   "execution_count": null,
   "metadata": {},
   "outputs": [],
   "source": []
  },
  {
   "cell_type": "code",
   "execution_count": null,
   "metadata": {},
   "outputs": [],
   "source": []
  },
  {
   "cell_type": "code",
   "execution_count": null,
   "metadata": {},
   "outputs": [],
   "source": []
  },
  {
   "cell_type": "code",
   "execution_count": null,
   "metadata": {},
   "outputs": [],
   "source": []
  },
  {
   "cell_type": "code",
   "execution_count": null,
   "metadata": {},
   "outputs": [],
   "source": []
  },
  {
   "cell_type": "code",
   "execution_count": null,
   "metadata": {},
   "outputs": [],
   "source": []
  },
  {
   "cell_type": "code",
   "execution_count": null,
   "metadata": {},
   "outputs": [],
   "source": []
  },
  {
   "cell_type": "code",
   "execution_count": null,
   "metadata": {},
   "outputs": [],
   "source": []
  },
  {
   "cell_type": "code",
   "execution_count": null,
   "metadata": {},
   "outputs": [],
   "source": []
  },
  {
   "cell_type": "code",
   "execution_count": null,
   "metadata": {},
   "outputs": [],
   "source": []
  },
  {
   "cell_type": "code",
   "execution_count": null,
   "metadata": {},
   "outputs": [],
   "source": []
  },
  {
   "cell_type": "code",
   "execution_count": null,
   "metadata": {},
   "outputs": [],
   "source": []
  },
  {
   "cell_type": "code",
   "execution_count": null,
   "metadata": {},
   "outputs": [],
   "source": []
  },
  {
   "cell_type": "code",
   "execution_count": null,
   "metadata": {},
   "outputs": [],
   "source": []
  },
  {
   "cell_type": "code",
   "execution_count": null,
   "metadata": {},
   "outputs": [],
   "source": []
  }
 ],
 "metadata": {
  "kernelspec": {
   "display_name": "tf_binding_model",
   "language": "python",
   "name": "tf_binding_model"
  },
  "language_info": {
   "codemirror_mode": {
    "name": "ipython",
    "version": 3
   },
   "file_extension": ".py",
   "mimetype": "text/x-python",
   "name": "python",
   "nbconvert_exporter": "python",
   "pygments_lexer": "ipython3",
   "version": "3.7.1"
  }
 },
 "nbformat": 4,
 "nbformat_minor": 2
}
