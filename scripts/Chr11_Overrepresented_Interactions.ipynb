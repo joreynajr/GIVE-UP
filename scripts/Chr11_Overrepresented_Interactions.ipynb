{
 "cells": [
  {
   "cell_type": "code",
   "execution_count": 4,
   "metadata": {},
   "outputs": [],
   "source": [
    "import gzip\n",
    "import numpy as np\n",
    "import pandas as pd\n",
    "import matplotlib.pyplot as plt\n",
    "import seaborn as sns\n",
    "\n",
    "%matplotlib inline"
   ]
  },
  {
   "cell_type": "code",
   "execution_count": 10,
   "metadata": {},
   "outputs": [],
   "source": [
    "def filter_interaction_df(df, chrA=None, chrA_positions=None, chrB=None, chrB_positions=None):\n",
    "    '''\n",
    "    This function filters interactions according to chrA and chrB specified.Also, a window of positions\n",
    "    can be provided for those chromosomes.\n",
    "    \n",
    "    Parameters\n",
    "    __________\n",
    "    \n",
    "    df : DataFrame\n",
    "        Pandas DataFrame containing interactions.\n",
    "    \n",
    "    chrA : str\n",
    "        Chromosome to keep in column chrA of df. None by default.\n",
    "        \n",
    "    chrA_positions : tuple\n",
    "        Tuple containing the start and the end of the windows of interactions. They corresponds to positions in\n",
    "        chrA (posA in df). None by default.\n",
    "        \n",
    "    chrB : str\n",
    "        Chromosome to keep in column chrB of df. None by default.\n",
    "        \n",
    "    chrB_positions : tuple\n",
    "        Tuple containing the start and the end of the windows of interactions. They corresponds to positions in\n",
    "        chrB (posB in df). None by default.\n",
    "        \n",
    "    Returns\n",
    "    _______\n",
    "    \n",
    "    df_ : DataFrame\n",
    "        Pandas dataframe containing all interactions after filtering df.\n",
    "    '''\n",
    "    df_ = df.copy()\n",
    "\n",
    "    if chrA is not None:\n",
    "        if chrA_positions is not None:\n",
    "            df_ = df_.loc[(df_['chrA'] == chrA) & \\\n",
    "                          (df_['posA'].between(chrA_positions[0], chrA_positions[1], inclusive=True))]\n",
    "        else:\n",
    "            raise ValueError(\"Specify positions for ChrA\")\n",
    "            \n",
    "    if chrB is not None:\n",
    "        if chrB_positions is not None:\n",
    "            df_ = df_.loc[(df_['chrB'] == chrB) & \\\n",
    "                          (df_['posB'].between(chrB_positions[0], chrB_positions[1], inclusive=True))]\n",
    "        else:\n",
    "            raise ValueError(\"Specify positions for ChrB\")\n",
    "    \n",
    "    return df_"
   ]
  },
  {
   "cell_type": "markdown",
   "metadata": {},
   "source": [
    "# Load Files"
   ]
  },
  {
   "cell_type": "code",
   "execution_count": 5,
   "metadata": {},
   "outputs": [],
   "source": [
    "significant_HEK_file = '/Users/earmingol/Dropbox/Universidad/UCSanDiego/Cursos/BENG203/Project/FitHiC/FitHiC.spline_pass1.res40000_hek.significances.txt.flt'\n",
    "significant_HFF_file = '/Users/earmingol/Dropbox/Universidad/UCSanDiego/Cursos/BENG203/Project/FitHiC/FitHiC.spline_pass1.res40000_hff.significances.txt.flt'"
   ]
  },
  {
   "cell_type": "code",
   "execution_count": 6,
   "metadata": {},
   "outputs": [],
   "source": [
    "new_cols = ['chrA', 'posA', 'chrB', 'posB', 'contactCount', 'p-value', 'q-value', 'bias1', 'bias2']"
   ]
  },
  {
   "cell_type": "code",
   "execution_count": 7,
   "metadata": {},
   "outputs": [
    {
     "name": "stderr",
     "output_type": "stream",
     "text": [
      "/Users/earmingol/anaconda3/envs/DataVisualization/lib/python3.7/site-packages/ipykernel_launcher.py:1: FutureWarning: read_table is deprecated, use read_csv instead, passing sep='\\t'.\n",
      "  \"\"\"Entry point for launching an IPython kernel.\n"
     ]
    }
   ],
   "source": [
    "significant_HEK = pd.read_table(significant_HEK_file)\n",
    "significant_HEK.columns = new_cols"
   ]
  },
  {
   "cell_type": "code",
   "execution_count": 8,
   "metadata": {},
   "outputs": [
    {
     "data": {
      "text/html": [
       "<div>\n",
       "<style scoped>\n",
       "    .dataframe tbody tr th:only-of-type {\n",
       "        vertical-align: middle;\n",
       "    }\n",
       "\n",
       "    .dataframe tbody tr th {\n",
       "        vertical-align: top;\n",
       "    }\n",
       "\n",
       "    .dataframe thead th {\n",
       "        text-align: right;\n",
       "    }\n",
       "</style>\n",
       "<table border=\"1\" class=\"dataframe\">\n",
       "  <thead>\n",
       "    <tr style=\"text-align: right;\">\n",
       "      <th></th>\n",
       "      <th>chrA</th>\n",
       "      <th>posA</th>\n",
       "      <th>chrB</th>\n",
       "      <th>posB</th>\n",
       "      <th>contactCount</th>\n",
       "      <th>p-value</th>\n",
       "      <th>q-value</th>\n",
       "      <th>bias1</th>\n",
       "      <th>bias2</th>\n",
       "    </tr>\n",
       "  </thead>\n",
       "  <tbody>\n",
       "    <tr>\n",
       "      <th>0</th>\n",
       "      <td>chr1</td>\n",
       "      <td>760000</td>\n",
       "      <td>chr1</td>\n",
       "      <td>110240000</td>\n",
       "      <td>2</td>\n",
       "      <td>7.283664e-11</td>\n",
       "      <td>0.024504</td>\n",
       "      <td>1.0</td>\n",
       "      <td>1.0</td>\n",
       "    </tr>\n",
       "    <tr>\n",
       "      <th>1</th>\n",
       "      <td>chr1</td>\n",
       "      <td>920000</td>\n",
       "      <td>chr1</td>\n",
       "      <td>1320000</td>\n",
       "      <td>4</td>\n",
       "      <td>1.417444e-12</td>\n",
       "      <td>0.000499</td>\n",
       "      <td>1.0</td>\n",
       "      <td>1.0</td>\n",
       "    </tr>\n",
       "    <tr>\n",
       "      <th>2</th>\n",
       "      <td>chr1</td>\n",
       "      <td>920000</td>\n",
       "      <td>chr1</td>\n",
       "      <td>89640000</td>\n",
       "      <td>2</td>\n",
       "      <td>1.169054e-10</td>\n",
       "      <td>0.039039</td>\n",
       "      <td>1.0</td>\n",
       "      <td>1.0</td>\n",
       "    </tr>\n",
       "    <tr>\n",
       "      <th>3</th>\n",
       "      <td>chr1</td>\n",
       "      <td>920000</td>\n",
       "      <td>chr1</td>\n",
       "      <td>147640000</td>\n",
       "      <td>2</td>\n",
       "      <td>4.627494e-11</td>\n",
       "      <td>0.015698</td>\n",
       "      <td>1.0</td>\n",
       "      <td>1.0</td>\n",
       "    </tr>\n",
       "    <tr>\n",
       "      <th>4</th>\n",
       "      <td>chr1</td>\n",
       "      <td>960000</td>\n",
       "      <td>chr1</td>\n",
       "      <td>1240000</td>\n",
       "      <td>5</td>\n",
       "      <td>2.380460e-15</td>\n",
       "      <td>0.000003</td>\n",
       "      <td>1.0</td>\n",
       "      <td>1.0</td>\n",
       "    </tr>\n",
       "  </tbody>\n",
       "</table>\n",
       "</div>"
      ],
      "text/plain": [
       "   chrA    posA  chrB       posB  contactCount       p-value   q-value  bias1  \\\n",
       "0  chr1  760000  chr1  110240000             2  7.283664e-11  0.024504    1.0   \n",
       "1  chr1  920000  chr1    1320000             4  1.417444e-12  0.000499    1.0   \n",
       "2  chr1  920000  chr1   89640000             2  1.169054e-10  0.039039    1.0   \n",
       "3  chr1  920000  chr1  147640000             2  4.627494e-11  0.015698    1.0   \n",
       "4  chr1  960000  chr1    1240000             5  2.380460e-15  0.000003    1.0   \n",
       "\n",
       "   bias2  \n",
       "0    1.0  \n",
       "1    1.0  \n",
       "2    1.0  \n",
       "3    1.0  \n",
       "4    1.0  "
      ]
     },
     "execution_count": 8,
     "metadata": {},
     "output_type": "execute_result"
    }
   ],
   "source": [
    "significant_HEK.head()"
   ]
  },
  {
   "cell_type": "code",
   "execution_count": 9,
   "metadata": {},
   "outputs": [
    {
     "name": "stderr",
     "output_type": "stream",
     "text": [
      "/Users/earmingol/anaconda3/envs/DataVisualization/lib/python3.7/site-packages/ipykernel_launcher.py:1: FutureWarning: read_table is deprecated, use read_csv instead, passing sep='\\t'.\n",
      "  \"\"\"Entry point for launching an IPython kernel.\n"
     ]
    }
   ],
   "source": [
    "significant_HFF = pd.read_table(significant_HFF_file)\n",
    "significant_HFF.columns = new_cols"
   ]
  },
  {
   "cell_type": "code",
   "execution_count": 11,
   "metadata": {},
   "outputs": [
    {
     "data": {
      "text/html": [
       "<div>\n",
       "<style scoped>\n",
       "    .dataframe tbody tr th:only-of-type {\n",
       "        vertical-align: middle;\n",
       "    }\n",
       "\n",
       "    .dataframe tbody tr th {\n",
       "        vertical-align: top;\n",
       "    }\n",
       "\n",
       "    .dataframe thead th {\n",
       "        text-align: right;\n",
       "    }\n",
       "</style>\n",
       "<table border=\"1\" class=\"dataframe\">\n",
       "  <thead>\n",
       "    <tr style=\"text-align: right;\">\n",
       "      <th></th>\n",
       "      <th>chrA</th>\n",
       "      <th>posA</th>\n",
       "      <th>chrB</th>\n",
       "      <th>posB</th>\n",
       "      <th>contactCount</th>\n",
       "      <th>p-value</th>\n",
       "      <th>q-value</th>\n",
       "      <th>bias1</th>\n",
       "      <th>bias2</th>\n",
       "    </tr>\n",
       "  </thead>\n",
       "  <tbody>\n",
       "    <tr>\n",
       "      <th>0</th>\n",
       "      <td>chr1</td>\n",
       "      <td>600000</td>\n",
       "      <td>chr1</td>\n",
       "      <td>162560000</td>\n",
       "      <td>2</td>\n",
       "      <td>4.919350e-11</td>\n",
       "      <td>0.007639</td>\n",
       "      <td>1.0</td>\n",
       "      <td>1.0</td>\n",
       "    </tr>\n",
       "    <tr>\n",
       "      <th>1</th>\n",
       "      <td>chr1</td>\n",
       "      <td>600000</td>\n",
       "      <td>chr1</td>\n",
       "      <td>169520000</td>\n",
       "      <td>2</td>\n",
       "      <td>4.542896e-11</td>\n",
       "      <td>0.007062</td>\n",
       "      <td>1.0</td>\n",
       "      <td>1.0</td>\n",
       "    </tr>\n",
       "    <tr>\n",
       "      <th>2</th>\n",
       "      <td>chr1</td>\n",
       "      <td>840000</td>\n",
       "      <td>chr1</td>\n",
       "      <td>226440000</td>\n",
       "      <td>2</td>\n",
       "      <td>1.848807e-11</td>\n",
       "      <td>0.002890</td>\n",
       "      <td>1.0</td>\n",
       "      <td>1.0</td>\n",
       "    </tr>\n",
       "    <tr>\n",
       "      <th>3</th>\n",
       "      <td>chr1</td>\n",
       "      <td>1240000</td>\n",
       "      <td>chr1</td>\n",
       "      <td>156160000</td>\n",
       "      <td>2</td>\n",
       "      <td>5.302499e-11</td>\n",
       "      <td>0.008225</td>\n",
       "      <td>1.0</td>\n",
       "      <td>1.0</td>\n",
       "    </tr>\n",
       "    <tr>\n",
       "      <th>4</th>\n",
       "      <td>chr1</td>\n",
       "      <td>1360000</td>\n",
       "      <td>chr1</td>\n",
       "      <td>119600000</td>\n",
       "      <td>2</td>\n",
       "      <td>7.695194e-11</td>\n",
       "      <td>0.011864</td>\n",
       "      <td>1.0</td>\n",
       "      <td>1.0</td>\n",
       "    </tr>\n",
       "  </tbody>\n",
       "</table>\n",
       "</div>"
      ],
      "text/plain": [
       "   chrA     posA  chrB       posB  contactCount       p-value   q-value  \\\n",
       "0  chr1   600000  chr1  162560000             2  4.919350e-11  0.007639   \n",
       "1  chr1   600000  chr1  169520000             2  4.542896e-11  0.007062   \n",
       "2  chr1   840000  chr1  226440000             2  1.848807e-11  0.002890   \n",
       "3  chr1  1240000  chr1  156160000             2  5.302499e-11  0.008225   \n",
       "4  chr1  1360000  chr1  119600000             2  7.695194e-11  0.011864   \n",
       "\n",
       "   bias1  bias2  \n",
       "0    1.0    1.0  \n",
       "1    1.0    1.0  \n",
       "2    1.0    1.0  \n",
       "3    1.0    1.0  \n",
       "4    1.0    1.0  "
      ]
     },
     "execution_count": 11,
     "metadata": {},
     "output_type": "execute_result"
    }
   ],
   "source": [
    "significant_HFF.head()"
   ]
  },
  {
   "cell_type": "markdown",
   "metadata": {},
   "source": [
    "# Filter Tables"
   ]
  },
  {
   "cell_type": "code",
   "execution_count": 34,
   "metadata": {},
   "outputs": [],
   "source": [
    "bins = 1000"
   ]
  },
  {
   "cell_type": "code",
   "execution_count": 35,
   "metadata": {},
   "outputs": [],
   "source": [
    "filtered_sig_HEK = filter_interaction_df(significant_HEK,\n",
    "                                         chrA='chr11', \n",
    "                                         chrA_positions=(60000000, 67000000))"
   ]
  },
  {
   "cell_type": "code",
   "execution_count": 36,
   "metadata": {},
   "outputs": [
    {
     "data": {
      "image/png": "[encoded data removed]",
      "text/plain": [
       "<Figure size 432x288 with 1 Axes>"
      ]
     },
     "metadata": {
      "needs_background": "light"
     },
     "output_type": "display_data"
    }
   ],
   "source": [
    "hist_HEK = filtered_sig_HEK.posA.hist(bins=bins)"
   ]
  },
  {
   "cell_type": "code",
   "execution_count": 38,
   "metadata": {},
   "outputs": [
    {
     "data": {
      "text/plain": [
       "(62839240.0, 62845280.0]    33715\n",
       "(65478720.0, 65484760.0]    24592\n",
       "(65394160.0, 65400200.0]     9433\n",
       "(65436440.0, 65442480.0]     3111\n",
       "(66318280.0, 66324320.0]      760\n",
       "Name: posA, dtype: int64"
      ]
     },
     "execution_count": 38,
     "metadata": {},
     "output_type": "execute_result"
    }
   ],
   "source": [
    "pd.cut(filtered_sig_HEK['posA'], bins).value_counts().sort_values(ascending=False).head()"
   ]
  },
  {
   "cell_type": "code",
   "execution_count": 28,
   "metadata": {},
   "outputs": [],
   "source": [
    "filtered_sig_HFF = filter_interaction_df(significant_HFF,\n",
    "                                         chrA='chr11', \n",
    "                                         chrA_positions=(60000000, 67000000))"
   ]
  },
  {
   "cell_type": "code",
   "execution_count": 39,
   "metadata": {},
   "outputs": [
    {
     "data": {
      "image/png": "[encoded data removed]",
      "text/plain": [
       "<Figure size 432x288 with 1 Axes>"
      ]
     },
     "metadata": {
      "needs_background": "light"
     },
     "output_type": "display_data"
    }
   ],
   "source": [
    "hist_HFF = filtered_sig_HFF.posA.hist(bins=bins)"
   ]
  },
  {
   "cell_type": "code",
   "execution_count": 40,
   "metadata": {},
   "outputs": [
    {
     "data": {
      "text/plain": [
       "(65466400.0, 65525200.0]    41799\n",
       "(62820400.0, 62879200.0]    34595\n",
       "(65348800.0, 65407600.0]    17766\n",
       "(65407600.0, 65466400.0]     2825\n",
       "(62467600.0, 62526400.0]     1377\n",
       "Name: posA, dtype: int64"
      ]
     },
     "execution_count": 40,
     "metadata": {},
     "output_type": "execute_result"
    }
   ],
   "source": [
    "pd.cut(filtered_sig_HFF['posA'], 100).value_counts().sort_values(ascending=False).head()"
   ]
  },
  {
   "cell_type": "markdown",
   "metadata": {},
   "source": [
    "# Detect genes"
   ]
  },
  {
   "cell_type": "code",
   "execution_count": 103,
   "metadata": {},
   "outputs": [],
   "source": [
    "def read_gff(filename, file_format='gzip'):\n",
    "    '''\n",
    "    This function reads a .pairs or .pairs.gz generated from iMARGI.\n",
    "    \n",
    "    Parameters\n",
    "    __________\n",
    "    \n",
    "    filename : str\n",
    "        It is the path to the iMARGI file.\n",
    "    file_format : str\n",
    "        It could be gzip or uncompress. Here, we use gzip by default.\n",
    "        \n",
    "    Returns\n",
    "    _______\n",
    "    \n",
    "    df : DataFrame\n",
    "        Pandas dataframe containing all interactions. Columns are 'chrA', 'posA', 'chrB' and 'posB'.\n",
    "    '''\n",
    "    entries = []\n",
    "    if file_format == 'gzip':\n",
    "        with gzip.open(filename, 'rb') as f:\n",
    "            for i, line in enumerate(f):\n",
    "                if i % 10000 == 0:\n",
    "                    print(\"Reading line {}\".format(i))\n",
    "                    \n",
    "                line = line.decode()\n",
    "                #if line.startswith('#'):\n",
    "                if line[0] == '#':\n",
    "                    continue \n",
    "\n",
    "                vals = line.split('\\t')\n",
    "                seqname = vals[0]\n",
    "                feature = vals[2]\n",
    "                start = vals[3]\n",
    "                end = vals[4]\n",
    "                idx = vals[8].split(';').lstrip('ID=')\n",
    "                \n",
    "                \n",
    "                start, end = int(start), int(end)\n",
    "                \n",
    "                entries.append((idx, feature, start, end, seqname))\n",
    "    else:\n",
    "        with open(filename, 'rb') as f:\n",
    "            for i, line in enumerate(f):\n",
    "                if i % 10000 == 0:\n",
    "                    print(\"Reading line {}\".format(i))\n",
    "                    \n",
    "                #if line.startswith('#'):\n",
    "                line = line.decode()\n",
    "                if line[0] == '#':\n",
    "                    continue \n",
    "\n",
    "                vals = line.split('\\t')\n",
    "                seqname = vals[0]\n",
    "                feature = vals[2]\n",
    "                start = vals[3]\n",
    "                end = vals[4]\n",
    "                idx = vals[8].split(';')[0].lstrip('ID=')\n",
    "                \n",
    "                \n",
    "                start, end = int(start), int(end)\n",
    "                \n",
    "                entries.append((idx, feature, start, end, seqname))\n",
    "                \n",
    "    df = pd.DataFrame.from_records(entries, columns=['Id', 'Type', 'Start', 'End', 'Location'])\n",
    "    df.set_index('Id', inplace=True)\n",
    "    del entries\n",
    "    return df"
   ]
  },
  {
   "cell_type": "code",
   "execution_count": 104,
   "metadata": {},
   "outputs": [],
   "source": [
    "gff_file = './chr11_GRCh38_latest_genomic.gff'"
   ]
  },
  {
   "cell_type": "code",
   "execution_count": 105,
   "metadata": {},
   "outputs": [
    {
     "name": "stdout",
     "output_type": "stream",
     "text": [
      "Reading line 0\n",
      "Reading line 10000\n",
      "Reading line 20000\n",
      "Reading line 30000\n",
      "Reading line 40000\n",
      "Reading line 50000\n",
      "Reading line 60000\n",
      "Reading line 70000\n",
      "Reading line 80000\n",
      "Reading line 90000\n",
      "Reading line 100000\n",
      "Reading line 110000\n",
      "Reading line 120000\n",
      "Reading line 130000\n",
      "Reading line 140000\n",
      "Reading line 150000\n",
      "Reading line 160000\n",
      "Reading line 170000\n",
      "Reading line 180000\n"
     ]
    }
   ],
   "source": [
    "GFF = read_gff(gff_file, file_format='gff')"
   ]
  },
  {
   "cell_type": "code",
   "execution_count": 106,
   "metadata": {},
   "outputs": [
    {
     "data": {
      "text/html": [
       "<div>\n",
       "<style scoped>\n",
       "    .dataframe tbody tr th:only-of-type {\n",
       "        vertical-align: middle;\n",
       "    }\n",
       "\n",
       "    .dataframe tbody tr th {\n",
       "        vertical-align: top;\n",
       "    }\n",
       "\n",
       "    .dataframe thead th {\n",
       "        text-align: right;\n",
       "    }\n",
       "</style>\n",
       "<table border=\"1\" class=\"dataframe\">\n",
       "  <thead>\n",
       "    <tr style=\"text-align: right;\">\n",
       "      <th></th>\n",
       "      <th>Type</th>\n",
       "      <th>Start</th>\n",
       "      <th>End</th>\n",
       "      <th>Location</th>\n",
       "    </tr>\n",
       "    <tr>\n",
       "      <th>Id</th>\n",
       "      <th></th>\n",
       "      <th></th>\n",
       "      <th></th>\n",
       "      <th></th>\n",
       "    </tr>\n",
       "  </thead>\n",
       "  <tbody>\n",
       "    <tr>\n",
       "      <th>NC_000011.10:1..135086622</th>\n",
       "      <td>region</td>\n",
       "      <td>1</td>\n",
       "      <td>135086622</td>\n",
       "      <td>NC_000011.10</td>\n",
       "    </tr>\n",
       "    <tr>\n",
       "      <th>gene-WBP1LP10</th>\n",
       "      <td>pseudogene</td>\n",
       "      <td>75780</td>\n",
       "      <td>76143</td>\n",
       "      <td>NC_000011.10</td>\n",
       "    </tr>\n",
       "    <tr>\n",
       "      <th>gene-OR4F2P</th>\n",
       "      <td>pseudogene</td>\n",
       "      <td>86649</td>\n",
       "      <td>87586</td>\n",
       "      <td>NC_000011.10</td>\n",
       "    </tr>\n",
       "    <tr>\n",
       "      <th>id-OR4F2P</th>\n",
       "      <td>exon</td>\n",
       "      <td>86649</td>\n",
       "      <td>87586</td>\n",
       "      <td>NC_000011.10</td>\n",
       "    </tr>\n",
       "    <tr>\n",
       "      <th>gene-SEPT14P11</th>\n",
       "      <td>pseudogene</td>\n",
       "      <td>118850</td>\n",
       "      <td>121428</td>\n",
       "      <td>NC_000011.10</td>\n",
       "    </tr>\n",
       "  </tbody>\n",
       "</table>\n",
       "</div>"
      ],
      "text/plain": [
       "                                 Type   Start        End      Location\n",
       "Id                                                                    \n",
       "NC_000011.10:1..135086622      region       1  135086622  NC_000011.10\n",
       "gene-WBP1LP10              pseudogene   75780      76143  NC_000011.10\n",
       "gene-OR4F2P                pseudogene   86649      87586  NC_000011.10\n",
       "id-OR4F2P                        exon   86649      87586  NC_000011.10\n",
       "gene-SEPT14P11             pseudogene  118850     121428  NC_000011.10"
      ]
     },
     "execution_count": 106,
     "metadata": {},
     "output_type": "execute_result"
    }
   ],
   "source": [
    "GFF.head()"
   ]
  },
  {
   "cell_type": "code",
   "execution_count": 107,
   "metadata": {},
   "outputs": [],
   "source": [
    "GFF['HEK'] = GFF.apply(lambda row: len(filtered_sig_HEK['posA'].loc[filtered_sig_HEK['posA'].between(row['Start'],\n",
    "                                                                                                    row['End'],\n",
    "                                                                                                    inclusive=True)]),\n",
    "                      axis=1)"
   ]
  },
  {
   "cell_type": "code",
   "execution_count": 109,
   "metadata": {},
   "outputs": [],
   "source": [
    "GFF['HFF'] = GFF.apply(lambda row: len(filtered_sig_HFF['posA'].loc[filtered_sig_HFF['posA'].between(row['Start'],\n",
    "                                                                                                    row['End'],\n",
    "                                                                                                    inclusive=True)]),\n",
    "                      axis=1)"
   ]
  },
  {
   "cell_type": "code",
   "execution_count": 115,
   "metadata": {},
   "outputs": [
    {
     "data": {
      "text/html": [
       "<div>\n",
       "<style scoped>\n",
       "    .dataframe tbody tr th:only-of-type {\n",
       "        vertical-align: middle;\n",
       "    }\n",
       "\n",
       "    .dataframe tbody tr th {\n",
       "        vertical-align: top;\n",
       "    }\n",
       "\n",
       "    .dataframe thead th {\n",
       "        text-align: right;\n",
       "    }\n",
       "</style>\n",
       "<table border=\"1\" class=\"dataframe\">\n",
       "  <thead>\n",
       "    <tr style=\"text-align: right;\">\n",
       "      <th></th>\n",
       "      <th>Type</th>\n",
       "      <th>Start</th>\n",
       "      <th>End</th>\n",
       "      <th>Location</th>\n",
       "      <th>HEK</th>\n",
       "      <th>HFF</th>\n",
       "    </tr>\n",
       "    <tr>\n",
       "      <th>Id</th>\n",
       "      <th></th>\n",
       "      <th></th>\n",
       "      <th></th>\n",
       "      <th></th>\n",
       "      <th></th>\n",
       "      <th></th>\n",
       "    </tr>\n",
       "  </thead>\n",
       "  <tbody>\n",
       "    <tr>\n",
       "      <th>gene-WDR74</th>\n",
       "      <td>gene</td>\n",
       "      <td>62832321</td>\n",
       "      <td>62840426</td>\n",
       "      <td>NC_000011.10</td>\n",
       "      <td>33715</td>\n",
       "      <td>34595</td>\n",
       "    </tr>\n",
       "    <tr>\n",
       "      <th>gene-FRMD8</th>\n",
       "      <td>gene</td>\n",
       "      <td>65386570</td>\n",
       "      <td>65413525</td>\n",
       "      <td>NC_000011.10</td>\n",
       "      <td>9433</td>\n",
       "      <td>17766</td>\n",
       "    </tr>\n",
       "    <tr>\n",
       "      <th>gene-NEAT1</th>\n",
       "      <td>gene</td>\n",
       "      <td>65422798</td>\n",
       "      <td>65445540</td>\n",
       "      <td>NC_000011.10</td>\n",
       "      <td>3111</td>\n",
       "      <td>2825</td>\n",
       "    </tr>\n",
       "    <tr>\n",
       "      <th>gene-RBM14-RBM4</th>\n",
       "      <td>gene</td>\n",
       "      <td>66616582</td>\n",
       "      <td>66646473</td>\n",
       "      <td>NC_000011.10</td>\n",
       "      <td>226</td>\n",
       "      <td>12</td>\n",
       "    </tr>\n",
       "    <tr>\n",
       "      <th>gene-RBM4</th>\n",
       "      <td>gene</td>\n",
       "      <td>66638617</td>\n",
       "      <td>66668385</td>\n",
       "      <td>NC_000011.10</td>\n",
       "      <td>226</td>\n",
       "      <td>12</td>\n",
       "    </tr>\n",
       "  </tbody>\n",
       "</table>\n",
       "</div>"
      ],
      "text/plain": [
       "                 Type     Start       End      Location    HEK    HFF\n",
       "Id                                                                   \n",
       "gene-WDR74       gene  62832321  62840426  NC_000011.10  33715  34595\n",
       "gene-FRMD8       gene  65386570  65413525  NC_000011.10   9433  17766\n",
       "gene-NEAT1       gene  65422798  65445540  NC_000011.10   3111   2825\n",
       "gene-RBM14-RBM4  gene  66616582  66646473  NC_000011.10    226     12\n",
       "gene-RBM4        gene  66638617  66668385  NC_000011.10    226     12"
      ]
     },
     "execution_count": 115,
     "metadata": {},
     "output_type": "execute_result"
    }
   ],
   "source": [
    "GFF.loc[GFF['Type']=='gene'].sort_values(by='HEK', ascending=False).head()"
   ]
  },
  {
   "cell_type": "code",
   "execution_count": 116,
   "metadata": {},
   "outputs": [
    {
     "data": {
      "text/html": [
       "<div>\n",
       "<style scoped>\n",
       "    .dataframe tbody tr th:only-of-type {\n",
       "        vertical-align: middle;\n",
       "    }\n",
       "\n",
       "    .dataframe tbody tr th {\n",
       "        vertical-align: top;\n",
       "    }\n",
       "\n",
       "    .dataframe thead th {\n",
       "        text-align: right;\n",
       "    }\n",
       "</style>\n",
       "<table border=\"1\" class=\"dataframe\">\n",
       "  <thead>\n",
       "    <tr style=\"text-align: right;\">\n",
       "      <th></th>\n",
       "      <th>Type</th>\n",
       "      <th>Start</th>\n",
       "      <th>End</th>\n",
       "      <th>Location</th>\n",
       "      <th>HEK</th>\n",
       "      <th>HFF</th>\n",
       "    </tr>\n",
       "    <tr>\n",
       "      <th>Id</th>\n",
       "      <th></th>\n",
       "      <th></th>\n",
       "      <th></th>\n",
       "      <th></th>\n",
       "      <th></th>\n",
       "      <th></th>\n",
       "    </tr>\n",
       "  </thead>\n",
       "  <tbody>\n",
       "    <tr>\n",
       "      <th>gene-WDR74</th>\n",
       "      <td>gene</td>\n",
       "      <td>62832321</td>\n",
       "      <td>62840426</td>\n",
       "      <td>NC_000011.10</td>\n",
       "      <td>33715</td>\n",
       "      <td>34595</td>\n",
       "    </tr>\n",
       "    <tr>\n",
       "      <th>gene-FRMD8</th>\n",
       "      <td>gene</td>\n",
       "      <td>65386570</td>\n",
       "      <td>65413525</td>\n",
       "      <td>NC_000011.10</td>\n",
       "      <td>9433</td>\n",
       "      <td>17766</td>\n",
       "    </tr>\n",
       "    <tr>\n",
       "      <th>gene-NEAT1</th>\n",
       "      <td>gene</td>\n",
       "      <td>65422798</td>\n",
       "      <td>65445540</td>\n",
       "      <td>NC_000011.10</td>\n",
       "      <td>3111</td>\n",
       "      <td>2825</td>\n",
       "    </tr>\n",
       "    <tr>\n",
       "      <th>gene-AHNAK</th>\n",
       "      <td>gene</td>\n",
       "      <td>62433542</td>\n",
       "      <td>62546860</td>\n",
       "      <td>NC_000011.10</td>\n",
       "      <td>6</td>\n",
       "      <td>1377</td>\n",
       "    </tr>\n",
       "    <tr>\n",
       "      <th>gene-PLA2G16</th>\n",
       "      <td>gene</td>\n",
       "      <td>63574462</td>\n",
       "      <td>63616926</td>\n",
       "      <td>NC_000011.10</td>\n",
       "      <td>4</td>\n",
       "      <td>32</td>\n",
       "    </tr>\n",
       "  </tbody>\n",
       "</table>\n",
       "</div>"
      ],
      "text/plain": [
       "              Type     Start       End      Location    HEK    HFF\n",
       "Id                                                                \n",
       "gene-WDR74    gene  62832321  62840426  NC_000011.10  33715  34595\n",
       "gene-FRMD8    gene  65386570  65413525  NC_000011.10   9433  17766\n",
       "gene-NEAT1    gene  65422798  65445540  NC_000011.10   3111   2825\n",
       "gene-AHNAK    gene  62433542  62546860  NC_000011.10      6   1377\n",
       "gene-PLA2G16  gene  63574462  63616926  NC_000011.10      4     32"
      ]
     },
     "execution_count": 116,
     "metadata": {},
     "output_type": "execute_result"
    }
   ],
   "source": [
    "GFF.loc[GFF['Type']=='gene'].sort_values(by='HFF', ascending=False).head()"
   ]
  },
  {
   "cell_type": "code",
   "execution_count": null,
   "metadata": {},
   "outputs": [],
   "source": []
  }
 ],
 "metadata": {
  "kernelspec": {
   "display_name": "Python 3",
   "language": "python",
   "name": "python3"
  },
  "language_info": {
   "codemirror_mode": {
    "name": "ipython",
    "version": 3
   },
   "file_extension": ".py",
   "mimetype": "text/x-python",
   "name": "python",
   "nbconvert_exporter": "python",
   "pygments_lexer": "ipython3",
   "version": "3.7.3"
  }
 },
 "nbformat": 4,
 "nbformat_minor": 2
}
